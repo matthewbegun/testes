{
 "cells": [
  {
   "cell_type": "markdown",
   "id": "56e1d7ce-939f-42da-aa1b-cc4c987045fa",
   "metadata": {},
   "source": [
    "# piRates R funny! R!"
   ]
  },
  {
   "cell_type": "markdown",
   "id": "e1acd951-f58d-460a-bbf1-e3a835fd9ad6",
   "metadata": {},
   "source": [
    "## https://github.com/deusthindwa/optimal.age.targeting.pneumo.vaccines\n",
    "\n",
    "Sam contributor"
   ]
  },
  {
   "cell_type": "code",
   "execution_count": null,
   "id": "0c9b5aa7-2f9d-46c0-b503-e882f1438435",
   "metadata": {},
   "outputs": [],
   "source": [
    "# https://github.com/deusthindwa/optimal.age.targeting.pneumo.vaccines/blob/main/script/0_main.R\n",
    "# written by Samuel Clifford & Deus Thindwa\n",
    "# optimal age targeting for pneumoccocal vaccines against IPD in older adults\n",
    "# exponential decay and growth models.\n",
    "# 31/02/2022\n",
    "\n",
    "# load the require packages\n",
    "if (!require(pacman)){ #load packages\n",
    "  install.packages(\"pacman\")\n",
    "  install.packages(\"RcmdrPlugin.KMggplot2\")\n",
    "}\n",
    "\n",
    "pacman::p_load(char = c(\"tidyverse\", \"here\",\"readstata13\", \n",
    "                        \"scales\", \"boot\", \"magrittr\",  \"mvtnorm\", \n",
    "                        \"zoo\", \"patchwork\", \"mgcv\", \"PropCIs\", \"showtext\", \"ggh4x\"))\n",
    "\n",
    "options(stringsAsFactors = FALSE)\n",
    "setwd(here::here())\n",
    "\n",
    "\n",
    "# model incidences in each age group using (main)\n",
    "source(here::here(\"script\", \"1_incidence.R\"))\n",
    "\n",
    "# plot smoothed populations for all countries (main)\n",
    "source(here::here(\"script\", \"2_pops.R\"))\n",
    "\n",
    "# estimate initial efficacy and waning rates (supplementary)\n",
    "source(here::here(\"script\", \"3_metacurve.R\"))\n",
    "\n",
    "# generate scenarios by serogroup, country, VE, age and waning (supplementary)\n",
    "source(here::here(\"script\", \"4_vaccination_scenarios.R\"))\n",
    "\n",
    "# compute vaccine impact, cases averted (main)\n",
    "source(here::here(\"script\", \"5_vaccine_impact.R\"))\n",
    "\n",
    "# compute isolated impact scenarios (supplementary)\n",
    "source(here::here(\"script\", \"6_impact scenario.R\"))\n",
    "\n",
    "# make plots on raw IPD data from various countries (supplementary)\n",
    "source(here::here(\"script\", \"7_yearly_cases.R\"))\n",
    "\n",
    "# estimate initial efficacy and waning rates (supplementary)\n",
    "source(here::here(\"script\", \"8_ipd_scaled.R\"))\n",
    "\n",
    "# estimates of various stats for the results (main)\n",
    "source(here::here(\"script\", \"9_miscellaneous_estimates.R\"))"
   ]
  },
  {
   "cell_type": "code",
   "execution_count": null,
   "id": "e597faf7-3b5c-4558-b956-7911af16aafa",
   "metadata": {},
   "outputs": [],
   "source": []
  }
 ],
 "metadata": {
  "kernelspec": {
   "display_name": "R",
   "language": "R",
   "name": "ir"
  },
  "language_info": {
   "name": ""
  }
 },
 "nbformat": 4,
 "nbformat_minor": 5
}
